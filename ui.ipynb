{
 "cells": [
  {
   "cell_type": "code",
   "execution_count": 7,
   "id": "a4a25997",
   "metadata": {},
   "outputs": [
    {
     "data": {
      "application/vnd.jupyter.widget-view+json": {
       "model_id": "00b94a1e1d1147458a60f2ee1350c483",
       "version_major": 2,
       "version_minor": 0
      },
      "text/plain": [
       "Output()"
      ]
     },
     "metadata": {},
     "output_type": "display_data"
    },
    {
     "data": {
      "application/vnd.jupyter.widget-view+json": {
       "model_id": "ff4c431327c54c02a872f0d1b9175771",
       "version_major": 2,
       "version_minor": 0
      },
      "text/plain": [
       "Text(value='', description='Question:', layout=Layout(width='600px'), placeholder='Type here...')"
      ]
     },
     "metadata": {},
     "output_type": "display_data"
    },
    {
     "data": {
      "application/vnd.jupyter.widget-view+json": {
       "model_id": "038c7e8c10124646a9cfeecd3c5fc4a2",
       "version_major": 2,
       "version_minor": 0
      },
      "text/plain": [
       "Button(description='Submit', style=ButtonStyle())"
      ]
     },
     "metadata": {},
     "output_type": "display_data"
    },
    {
     "data": {
      "application/vnd.jupyter.widget-view+json": {
       "model_id": "dbca6206b1e84774989419aeecc4f005",
       "version_major": 2,
       "version_minor": 0
      },
      "text/plain": [
       "Output()"
      ]
     },
     "metadata": {},
     "output_type": "display_data"
    }
   ],
   "source": [
    "import base64\n",
    "import io\n",
    "from PIL import Image\n",
    "import matplotlib.pyplot as plt\n",
    "from IPython.display import display\n",
    "import ipywidgets as widgets\n",
    "from main import run_interactive, get_help\n",
    "\n",
    "def show_base64_image(b64_string):\n",
    "    img_bytes = base64.b64decode(b64_string)\n",
    "    img = Image.open(io.BytesIO(img_bytes))\n",
    "    plt.imshow(img)\n",
    "    plt.axis(\"off\")\n",
    "    plt.show()\n",
    "\n",
    "help = widgets.Output()\n",
    "text_box = widgets.Text(\n",
    "    description=\"Question:\",\n",
    "    placeholder=\"Type here...\",\n",
    "    layout=widgets.Layout(width=\"600px\")\n",
    ")\n",
    "button = widgets.Button(description=\"Submit\")\n",
    "output = widgets.Output()\n",
    "\n",
    "def on_submit(b):\n",
    "    with output:\n",
    "        output.clear_output()\n",
    "        run_interactive(text_box.value, print, show_base64_image)\n",
    "        # print(response)\n",
    "        # show_base64_image(b64_img)\n",
    "\n",
    "button.on_click(on_submit)\n",
    "display(help, text_box, button, output)\n",
    "\n",
    "with help:\n",
    "    print(get_help())\n"
   ]
  }
 ],
 "metadata": {
  "kernelspec": {
   "display_name": ".venv",
   "language": "python",
   "name": "python3"
  },
  "language_info": {
   "codemirror_mode": {
    "name": "ipython",
    "version": 3
   },
   "file_extension": ".py",
   "mimetype": "text/x-python",
   "name": "python",
   "nbconvert_exporter": "python",
   "pygments_lexer": "ipython3",
   "version": "3.12.3"
  }
 },
 "nbformat": 4,
 "nbformat_minor": 5
}
